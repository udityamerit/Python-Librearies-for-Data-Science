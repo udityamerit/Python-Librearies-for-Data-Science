{
 "cells": [
  {
   "cell_type": "markdown",
   "id": "29660e47",
   "metadata": {},
   "source": [
    "# Introduction to Web Scraping\n"
   ]
  },
  {
   "cell_type": "markdown",
   "id": "595a440d",
   "metadata": {},
   "source": [
    "In this module we gona learn about the web scraping"
   ]
  }
 ],
 "metadata": {
  "kernelspec": {
   "display_name": "Python 3 (ipykernel)",
   "language": "python",
   "name": "python3"
  },
  "language_info": {
   "codemirror_mode": {
    "name": "ipython",
    "version": 3
   },
   "file_extension": ".py",
   "mimetype": "text/x-python",
   "name": "python",
   "nbconvert_exporter": "python",
   "pygments_lexer": "ipython3",
   "version": "3.11.4"
  }
 },
 "nbformat": 4,
 "nbformat_minor": 5
}
