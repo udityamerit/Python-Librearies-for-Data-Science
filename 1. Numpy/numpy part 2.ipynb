{
 "cells": [
  {
   "cell_type": "markdown",
   "id": "6215a2b7",
   "metadata": {},
   "source": [
    "# Introduction to numpy\n",
    "\n",
    "In this part 2 of numpy we gona learn some other important fuction and operations which is very usefull for the manipulation of the numpy arrays...\n",
    "\n",
    "1. Array Manipulation.\n",
    "2. Numpy arithmetic operations.\n",
    "3. Slicing arrays.\n",
    "4. Iterating over arrays. \n",
    "5. Array concatination. \n",
    "6. Splitting arrays. \n",
    "7. Numpy histogram using matplotlib.\n",
    "8. Other useful functions in numpy.\n",
    "9. Practice examples."
   ]
  },
  {
   "cell_type": "markdown",
   "id": "a39320fe",
   "metadata": {},
   "source": [
    "##  Array Manipulation"
   ]
  },
  {
   "cell_type": "code",
   "execution_count": 1,
   "id": "1172d882",
   "metadata": {},
   "outputs": [],
   "source": [
    "import numpy as np"
   ]
  },
  {
   "cell_type": "code",
   "execution_count": 2,
   "id": "733424e7",
   "metadata": {},
   "outputs": [
    {
     "name": "stdout",
     "output_type": "stream",
     "text": [
      "The original array:\n",
      "[0 1 2 3 4 5 6 7 8]\n",
      "\n",
      "The modified array: \n",
      "[[0 1 2]\n",
      " [3 4 5]\n",
      " [6 7 8]]\n"
     ]
    }
   ],
   "source": [
    "a = np.arange(9)\n",
    "print('The original array:')\n",
    "print(a)\n",
    "print()\n",
    "\n",
    "b = a.reshape(3,3)\n",
    "print('The modified array: ')\n",
    "print(b)"
   ]
  },
  {
   "cell_type": "markdown",
   "id": "32d3d3a4",
   "metadata": {},
   "source": [
    "## Flatten() method  "
   ]
  },
  {
   "cell_type": "markdown",
   "id": "ed579d61",
   "metadata": {},
   "source": [
    "In NumPy, the flatten() method is used to reshape multi-dimensional arrays into one-dimensional arrays. This makes complex arrays easier to work with. \n",
    " \n",
    "Here are some things to know about the flatten() method: \n",
    " \n",
    "Return type: The flatten() method returns a copy of the array. \n",
    " \n",
    "Memory contiguity: The resulting array is guaranteed to be memory contiguous. \n",
    " \n",
    "Optional parameter: The order parameter can be set to C, F, A, or K. The default value is C. \n",
    " \n",
    "C: Flattens in row-major (C-style) order. \n",
    " \n",
    "F: Flattens in column-major (Fortran-style) order. \n",
    " \n",
    "A: Flattens in column-major order if a is Fortran contiguous in memory, row-major order otherwise. \n",
    " \n",
    "K: Flattens in the order the elements occur in memory. \n"
   ]
  },
  {
   "cell_type": "code",
   "execution_count": 3,
   "id": "e108c2d7",
   "metadata": {},
   "outputs": [
    {
     "name": "stdout",
     "output_type": "stream",
     "text": [
      "[0 1 2 3 4 5 6 7 8]\n"
     ]
    }
   ],
   "source": [
    "print(b.flatten()) # use for convert the multidimention array in 1-D array"
   ]
  },
  {
   "cell_type": "code",
   "execution_count": 4,
   "id": "6953967b",
   "metadata": {},
   "outputs": [
    {
     "data": {
      "text/plain": [
       "array([0, 3, 6, 1, 4, 7, 2, 5, 8])"
      ]
     },
     "execution_count": 4,
     "metadata": {},
     "output_type": "execute_result"
    }
   ],
   "source": [
    "b.flatten(order = 'F')"
   ]
  },
  {
   "cell_type": "code",
   "execution_count": 5,
   "id": "054ef17c",
   "metadata": {},
   "outputs": [
    {
     "data": {
      "text/plain": [
       "array([0, 1, 2, 3, 4, 5, 6, 7, 8])"
      ]
     },
     "execution_count": 5,
     "metadata": {},
     "output_type": "execute_result"
    }
   ],
   "source": [
    "b.flatten(order = 'C')"
   ]
  },
  {
   "cell_type": "code",
   "execution_count": 6,
   "id": "b0366f85",
   "metadata": {},
   "outputs": [
    {
     "data": {
      "text/plain": [
       "array([0, 1, 2, 3, 4, 5, 6, 7, 8])"
      ]
     },
     "execution_count": 6,
     "metadata": {},
     "output_type": "execute_result"
    }
   ],
   "source": [
    "b.flatten(order = 'A')"
   ]
  },
  {
   "cell_type": "code",
   "execution_count": 7,
   "id": "0930a49a",
   "metadata": {},
   "outputs": [
    {
     "data": {
      "text/plain": [
       "array([0, 1, 2, 3, 4, 5, 6, 7, 8])"
      ]
     },
     "execution_count": 7,
     "metadata": {},
     "output_type": "execute_result"
    }
   ],
   "source": [
    "b.flatten(order = 'K')"
   ]
  },
  {
   "cell_type": "code",
   "execution_count": 8,
   "id": "b2e8adf8",
   "metadata": {},
   "outputs": [],
   "source": [
    "arr = np.arange(12).reshape(3,4)"
   ]
  },
  {
   "cell_type": "code",
   "execution_count": 9,
   "id": "f4c10e59",
   "metadata": {},
   "outputs": [
    {
     "data": {
      "text/plain": [
       "array([[ 0,  1,  2,  3],\n",
       "       [ 4,  5,  6,  7],\n",
       "       [ 8,  9, 10, 11]])"
      ]
     },
     "execution_count": 9,
     "metadata": {},
     "output_type": "execute_result"
    }
   ],
   "source": [
    "arr"
   ]
  },
  {
   "cell_type": "code",
   "execution_count": 10,
   "id": "781451de",
   "metadata": {},
   "outputs": [
    {
     "data": {
      "text/plain": [
       "array([[ 0,  4,  8],\n",
       "       [ 1,  5,  9],\n",
       "       [ 2,  6, 10],\n",
       "       [ 3,  7, 11]])"
      ]
     },
     "execution_count": 10,
     "metadata": {},
     "output_type": "execute_result"
    }
   ],
   "source": [
    "np.transpose(arr)"
   ]
  },
  {
   "cell_type": "code",
   "execution_count": 11,
   "id": "2bba47ea",
   "metadata": {},
   "outputs": [],
   "source": [
    "c = arr.reshape(3,2,2) # it is convert our np array into the 3-D array"
   ]
  },
  {
   "cell_type": "code",
   "execution_count": 12,
   "id": "ee090391",
   "metadata": {},
   "outputs": [
    {
     "data": {
      "text/plain": [
       "array([[[ 0,  1],\n",
       "        [ 2,  3]],\n",
       "\n",
       "       [[ 4,  5],\n",
       "        [ 6,  7]],\n",
       "\n",
       "       [[ 8,  9],\n",
       "        [10, 11]]])"
      ]
     },
     "execution_count": 12,
     "metadata": {},
     "output_type": "execute_result"
    }
   ],
   "source": [
    "c"
   ]
  },
  {
   "cell_type": "code",
   "execution_count": 13,
   "id": "69cc23a5",
   "metadata": {},
   "outputs": [
    {
     "data": {
      "text/plain": [
       "array([[[ 0,  1],\n",
       "        [ 4,  5],\n",
       "        [ 8,  9]],\n",
       "\n",
       "       [[ 2,  3],\n",
       "        [ 6,  7],\n",
       "        [10, 11]]])"
      ]
     },
     "execution_count": 13,
     "metadata": {},
     "output_type": "execute_result"
    }
   ],
   "source": [
    "np.rollaxis(c,1)"
   ]
  },
  {
   "cell_type": "code",
   "execution_count": 14,
   "id": "0c5b08e1",
   "metadata": {},
   "outputs": [
    {
     "data": {
      "text/plain": [
       "array([[[ 0,  2],\n",
       "        [ 4,  6],\n",
       "        [ 8, 10]],\n",
       "\n",
       "       [[ 1,  3],\n",
       "        [ 5,  7],\n",
       "        [ 9, 11]]])"
      ]
     },
     "execution_count": 14,
     "metadata": {},
     "output_type": "execute_result"
    }
   ],
   "source": [
    "np.rollaxis(c,2)"
   ]
  },
  {
   "cell_type": "code",
   "execution_count": 15,
   "id": "61c60765",
   "metadata": {},
   "outputs": [
    {
     "data": {
      "text/plain": [
       "array([[[ 0,  2],\n",
       "        [ 1,  3]],\n",
       "\n",
       "       [[ 4,  6],\n",
       "        [ 5,  7]],\n",
       "\n",
       "       [[ 8, 10],\n",
       "        [ 9, 11]]])"
      ]
     },
     "execution_count": 15,
     "metadata": {},
     "output_type": "execute_result"
    }
   ],
   "source": [
    "np.swapaxes(c,1,2)"
   ]
  },
  {
   "cell_type": "markdown",
   "id": "ebc27a06",
   "metadata": {},
   "source": [
    "## Numpy Arithematic operations "
   ]
  },
  {
   "cell_type": "code",
   "execution_count": 16,
   "id": "8e3aefba",
   "metadata": {},
   "outputs": [
    {
     "data": {
      "text/plain": [
       "array([[0, 1, 2],\n",
       "       [3, 4, 5],\n",
       "       [6, 7, 8]])"
      ]
     },
     "execution_count": 16,
     "metadata": {},
     "output_type": "execute_result"
    }
   ],
   "source": [
    "k = np.arange(9).reshape(3,3)\n",
    "k"
   ]
  },
  {
   "cell_type": "code",
   "execution_count": 17,
   "id": "600f543b",
   "metadata": {},
   "outputs": [
    {
     "data": {
      "text/plain": [
       "array([12, 13, 14])"
      ]
     },
     "execution_count": 17,
     "metadata": {},
     "output_type": "execute_result"
    }
   ],
   "source": [
    "l = np.array([12,13,14])\n",
    "l"
   ]
  },
  {
   "cell_type": "code",
   "execution_count": 18,
   "id": "51a00347",
   "metadata": {},
   "outputs": [
    {
     "data": {
      "text/plain": [
       "array([[12, 14, 16],\n",
       "       [15, 17, 19],\n",
       "       [18, 20, 22]])"
      ]
     },
     "execution_count": 18,
     "metadata": {},
     "output_type": "execute_result"
    }
   ],
   "source": [
    "np.add(k,l)"
   ]
  },
  {
   "cell_type": "code",
   "execution_count": 19,
   "id": "5bab3428",
   "metadata": {},
   "outputs": [
    {
     "data": {
      "text/plain": [
       "array([[0.        , 0.07692308, 0.14285714],\n",
       "       [0.25      , 0.30769231, 0.35714286],\n",
       "       [0.5       , 0.53846154, 0.57142857]])"
      ]
     },
     "execution_count": 19,
     "metadata": {},
     "output_type": "execute_result"
    }
   ],
   "source": [
    "np.divide(k,l)"
   ]
  },
  {
   "cell_type": "code",
   "execution_count": 20,
   "id": "254ad678",
   "metadata": {},
   "outputs": [
    {
     "data": {
      "text/plain": [
       "array([[-12, -12, -12],\n",
       "       [ -9,  -9,  -9],\n",
       "       [ -6,  -6,  -6]])"
      ]
     },
     "execution_count": 20,
     "metadata": {},
     "output_type": "execute_result"
    }
   ],
   "source": [
    "np.subtract(k,l)"
   ]
  },
  {
   "cell_type": "code",
   "execution_count": 21,
   "id": "ccfa2cc1",
   "metadata": {},
   "outputs": [
    {
     "data": {
      "text/plain": [
       "array([[  0,  13,  28],\n",
       "       [ 36,  52,  70],\n",
       "       [ 72,  91, 112]])"
      ]
     },
     "execution_count": 21,
     "metadata": {},
     "output_type": "execute_result"
    }
   ],
   "source": [
    "np.multiply(k,l)"
   ]
  },
  {
   "cell_type": "markdown",
   "id": "d3f5e387",
   "metadata": {},
   "source": [
    "## Slicing "
   ]
  },
  {
   "cell_type": "code",
   "execution_count": 22,
   "id": "f366c0f5",
   "metadata": {},
   "outputs": [
    {
     "data": {
      "text/plain": [
       "array([ 0,  1,  2,  3,  4,  5,  6,  7,  8,  9, 10, 11, 12, 13, 14, 15, 16,\n",
       "       17, 18, 19])"
      ]
     },
     "execution_count": 22,
     "metadata": {},
     "output_type": "execute_result"
    }
   ],
   "source": [
    "a = np.arange(20)\n",
    "a"
   ]
  },
  {
   "cell_type": "code",
   "execution_count": 23,
   "id": "1efa4b2d",
   "metadata": {},
   "outputs": [
    {
     "name": "stdout",
     "output_type": "stream",
     "text": [
      "4\n"
     ]
    }
   ],
   "source": [
    "print(a[4])"
   ]
  },
  {
   "cell_type": "code",
   "execution_count": 24,
   "id": "536fb1b7",
   "metadata": {},
   "outputs": [
    {
     "name": "stdout",
     "output_type": "stream",
     "text": [
      "[ 4  5  6  7  8  9 10 11 12 13 14 15 16 17 18 19]\n"
     ]
    }
   ],
   "source": [
    "print(a[4:])"
   ]
  },
  {
   "cell_type": "code",
   "execution_count": 25,
   "id": "4f5cd0b5",
   "metadata": {},
   "outputs": [
    {
     "name": "stdout",
     "output_type": "stream",
     "text": [
      "[0 1 2 3 4 5 6 7 8]\n"
     ]
    }
   ],
   "source": [
    "print(a[:9])"
   ]
  },
  {
   "cell_type": "code",
   "execution_count": 26,
   "id": "6809060c",
   "metadata": {},
   "outputs": [],
   "source": [
    "s = slice(2,19,3)"
   ]
  },
  {
   "cell_type": "code",
   "execution_count": 27,
   "id": "535308b3",
   "metadata": {},
   "outputs": [
    {
     "data": {
      "text/plain": [
       "array([ 2,  5,  8, 11, 14, 17])"
      ]
     },
     "execution_count": 27,
     "metadata": {},
     "output_type": "execute_result"
    }
   ],
   "source": [
    "a[s]"
   ]
  },
  {
   "cell_type": "markdown",
   "id": "8ff711cb",
   "metadata": {},
   "source": [
    "## Iterating over array "
   ]
  },
  {
   "cell_type": "code",
   "execution_count": 28,
   "id": "9df3876b",
   "metadata": {},
   "outputs": [
    {
     "data": {
      "text/plain": [
       "array([ 0,  5, 10, 15, 20, 25, 30, 35, 40])"
      ]
     },
     "execution_count": 28,
     "metadata": {},
     "output_type": "execute_result"
    }
   ],
   "source": [
    "# nditer is refer the iterator\n",
    "\n",
    "a = np.arange(0,45,5)\n",
    "a"
   ]
  },
  {
   "cell_type": "code",
   "execution_count": 29,
   "id": "58dcbe4c",
   "metadata": {},
   "outputs": [],
   "source": [
    "a = a.reshape(3,3)"
   ]
  },
  {
   "cell_type": "code",
   "execution_count": 30,
   "id": "9df123c2",
   "metadata": {},
   "outputs": [
    {
     "data": {
      "text/plain": [
       "array([[ 0,  5, 10],\n",
       "       [15, 20, 25],\n",
       "       [30, 35, 40]])"
      ]
     },
     "execution_count": 30,
     "metadata": {},
     "output_type": "execute_result"
    }
   ],
   "source": [
    "a"
   ]
  },
  {
   "cell_type": "code",
   "execution_count": 31,
   "id": "e20a4180",
   "metadata": {},
   "outputs": [
    {
     "name": "stdout",
     "output_type": "stream",
     "text": [
      "0\n",
      "5\n",
      "10\n",
      "15\n",
      "20\n",
      "25\n",
      "30\n",
      "35\n",
      "40\n"
     ]
    }
   ],
   "source": [
    "for x in np.nditer(a):\n",
    "    print(x)"
   ]
  },
  {
   "cell_type": "markdown",
   "id": "9a4926bc",
   "metadata": {},
   "source": [
    "## Iteration order (c-style and f-style) "
   ]
  },
  {
   "cell_type": "code",
   "execution_count": 32,
   "id": "ea7716e1",
   "metadata": {},
   "outputs": [
    {
     "name": "stdout",
     "output_type": "stream",
     "text": [
      "[[ 0  5 10]\n",
      " [15 20 25]\n",
      " [30 35 40]]\n"
     ]
    }
   ],
   "source": [
    "print(a)"
   ]
  },
  {
   "cell_type": "code",
   "execution_count": 33,
   "id": "d5b93b3a",
   "metadata": {},
   "outputs": [
    {
     "name": "stdout",
     "output_type": "stream",
     "text": [
      "0\n",
      "5\n",
      "10\n",
      "15\n",
      "20\n",
      "25\n",
      "30\n",
      "35\n",
      "40\n",
      "\n",
      "0\n",
      "15\n",
      "30\n",
      "5\n",
      "20\n",
      "35\n",
      "10\n",
      "25\n",
      "40\n"
     ]
    }
   ],
   "source": [
    "for x in np.nditer(a, order = 'C'): # order c is iterate the array in a row manner\n",
    "    print(x)\n",
    "    \n",
    "print()\n",
    "\n",
    "for x in np.nditer(a, order=\"F\"): # order f is iterate the array in a colum manner\n",
    "    print(x)"
   ]
  },
  {
   "cell_type": "markdown",
   "id": "06976217",
   "metadata": {},
   "source": [
    "##  Joining arrays"
   ]
  },
  {
   "cell_type": "code",
   "execution_count": 34,
   "id": "33ece08d",
   "metadata": {},
   "outputs": [
    {
     "name": "stdout",
     "output_type": "stream",
     "text": [
      "First array:  [[1 2 3]\n",
      " [4 5 6]]\n",
      "Second array:  [[ 7  8  9]\n",
      " [10 11 12]]\n",
      "joining the first and second array\n",
      "along the axis 0 means: along x axis\n",
      "[[ 1  2  3]\n",
      " [ 4  5  6]\n",
      " [ 7  8  9]\n",
      " [10 11 12]]\n",
      "along the axis 1 \n"
     ]
    },
    {
     "data": {
      "text/plain": [
       "array([[ 1,  2,  3,  7,  8,  9],\n",
       "       [ 4,  5,  6, 10, 11, 12]])"
      ]
     },
     "execution_count": 34,
     "metadata": {},
     "output_type": "execute_result"
    }
   ],
   "source": [
    "fa =  np.array([[1,2,3],[4,5,6]])\n",
    "sa = np.array([[7,8,9],[10,11,12]])\n",
    "print('First array: ',fa)\n",
    "print('Second array: ',sa)\n",
    "\n",
    "print('joining the first and second array')\n",
    "print('along the axis 0 means: along x axis')\n",
    "result = np.concatenate((fa,sa), axis=0)\n",
    "print(result)\n",
    "\n",
    "print('along the axis 1 ')\n",
    "result = np.concatenate((fa,sa), axis=1)\n",
    "result"
   ]
  },
  {
   "cell_type": "markdown",
   "id": "6f689a73",
   "metadata": {},
   "source": [
    "##  Splitting array"
   ]
  },
  {
   "cell_type": "code",
   "execution_count": 35,
   "id": "158b1fc1",
   "metadata": {},
   "outputs": [],
   "source": [
    "a  = np.arange(9)"
   ]
  },
  {
   "cell_type": "code",
   "execution_count": 36,
   "id": "4faeea67",
   "metadata": {},
   "outputs": [
    {
     "data": {
      "text/plain": [
       "[array([0, 1, 2]), array([3, 4, 5]), array([6, 7, 8])]"
      ]
     },
     "execution_count": 36,
     "metadata": {},
     "output_type": "execute_result"
    }
   ],
   "source": [
    "np.split(a,3) # it is seperate the array in 3 different arrays"
   ]
  },
  {
   "cell_type": "code",
   "execution_count": 37,
   "id": "423ecbcb",
   "metadata": {},
   "outputs": [
    {
     "data": {
      "text/plain": [
       "[array([0, 1, 2, 3]), array([4]), array([5, 6, 7, 8])]"
      ]
     },
     "execution_count": 37,
     "metadata": {},
     "output_type": "execute_result"
    }
   ],
   "source": [
    "np.split(a,[4,5])"
   ]
  },
  {
   "cell_type": "code",
   "execution_count": 38,
   "id": "c911c529",
   "metadata": {},
   "outputs": [
    {
     "data": {
      "text/plain": [
       "[array([0, 1, 2, 3]), array([4, 5, 6]), array([7, 8])]"
      ]
     },
     "execution_count": 38,
     "metadata": {},
     "output_type": "execute_result"
    }
   ],
   "source": [
    "np.split(a,[4,7])"
   ]
  },
  {
   "cell_type": "markdown",
   "id": "c62af3f1",
   "metadata": {},
   "source": [
    "##  Resizing an array"
   ]
  },
  {
   "cell_type": "code",
   "execution_count": 39,
   "id": "57eb1fba",
   "metadata": {},
   "outputs": [
    {
     "name": "stdout",
     "output_type": "stream",
     "text": [
      "[[1 2 3]\n",
      " [4 5 6]]\n",
      "(2, 3)\n"
     ]
    }
   ],
   "source": [
    "a = np.array([[1,2,3],[4,5,6]])\n",
    "print(a)\n",
    "print(a.shape)"
   ]
  },
  {
   "cell_type": "code",
   "execution_count": 40,
   "id": "0fd626ea",
   "metadata": {},
   "outputs": [
    {
     "name": "stdout",
     "output_type": "stream",
     "text": [
      "[[1 2]\n",
      " [3 4]\n",
      " [5 6]]\n"
     ]
    },
    {
     "data": {
      "text/plain": [
       "(3, 2)"
      ]
     },
     "execution_count": 40,
     "metadata": {},
     "output_type": "execute_result"
    }
   ],
   "source": [
    "b = np.resize(a,(3,2))\n",
    "print(b)\n",
    "b.shape"
   ]
  },
  {
   "cell_type": "markdown",
   "id": "5eebbd09",
   "metadata": {},
   "source": [
    "##  Histogram"
   ]
  },
  {
   "cell_type": "code",
   "execution_count": 41,
   "id": "ca448210",
   "metadata": {},
   "outputs": [],
   "source": [
    "import matplotlib.pyplot as plt"
   ]
  },
  {
   "cell_type": "code",
   "execution_count": 42,
   "id": "eb4270f0",
   "metadata": {},
   "outputs": [
    {
     "data": {
      "text/plain": [
       "'or you can use the other method to import the modules function'"
      ]
     },
     "execution_count": 42,
     "metadata": {},
     "output_type": "execute_result"
    }
   ],
   "source": [
    "'''or you can use the other method to import the modules function'''"
   ]
  },
  {
   "cell_type": "code",
   "execution_count": 43,
   "id": "b9c96bc4",
   "metadata": {},
   "outputs": [],
   "source": [
    "from matplotlib import pyplot as plt"
   ]
  },
  {
   "cell_type": "code",
   "execution_count": 44,
   "id": "839d5fc9",
   "metadata": {},
   "outputs": [
    {
     "data": {
      "image/png": "[encoded data removed]",
      "text/plain": [
       "<Figure size 640x480 with 1 Axes>"
      ]
     },
     "metadata": {},
     "output_type": "display_data"
    }
   ],
   "source": [
    "a = np.array([20,34,40,78,65,32,12,67,89,45])\n",
    "plt.hist(a, bins = [0,20,40,60,80,100])\n",
    "plt.title(\"Histogram\")\n",
    "plt.show()"
   ]
  },
  {
   "cell_type": "code",
   "execution_count": 45,
   "id": "1913b905",
   "metadata": {},
   "outputs": [
    {
     "data": {
      "image/png": "[encoded data removed]",
      "text/plain": [
       "<Figure size 640x480 with 1 Axes>"
      ]
     },
     "metadata": {},
     "output_type": "display_data"
    }
   ],
   "source": [
    "plt.hist(a, bins = [0,20,30,40,50,60,70,80,90,100])\n",
    "plt.title(\"Histogram\")\n",
    "plt.show()"
   ]
  },
  {
   "cell_type": "markdown",
   "id": "20ca002c",
   "metadata": {},
   "source": [
    "## Other useful functions in numpy"
   ]
  },
  {
   "cell_type": "markdown",
   "id": "ab46c0d6",
   "metadata": {},
   "source": [
    "### 1 linespace function "
   ]
  },
  {
   "cell_type": "code",
   "execution_count": 46,
   "id": "9d55a81d",
   "metadata": {},
   "outputs": [
    {
     "data": {
      "text/plain": [
       "array([1.        , 1.10526316, 1.21052632, 1.31578947, 1.42105263,\n",
       "       1.52631579, 1.63157895, 1.73684211, 1.84210526, 1.94736842,\n",
       "       2.05263158, 2.15789474, 2.26315789, 2.36842105, 2.47368421,\n",
       "       2.57894737, 2.68421053, 2.78947368, 2.89473684, 3.        ])"
      ]
     },
     "execution_count": 46,
     "metadata": {},
     "output_type": "execute_result"
    }
   ],
   "source": [
    "a = np.linspace(1,3,20) # it is create the array up to 3 for equally distance 20 datas present between the 1 to 3  \n",
    "a"
   ]
  },
  {
   "cell_type": "markdown",
   "id": "47fd2f3e",
   "metadata": {},
   "source": [
    "### 2. sum and axis "
   ]
  },
  {
   "cell_type": "code",
   "execution_count": 47,
   "id": "c67f43b4",
   "metadata": {},
   "outputs": [
    {
     "name": "stdout",
     "output_type": "stream",
     "text": [
      "[4 6 8]\n"
     ]
    }
   ],
   "source": [
    "a= np.array([(1,2,3),(3,4,5)])\n",
    "print(a.sum(axis=0))"
   ]
  },
  {
   "cell_type": "code",
   "execution_count": 48,
   "id": "5f21d9f5",
   "metadata": {},
   "outputs": [
    {
     "name": "stdout",
     "output_type": "stream",
     "text": [
      "[ 6 12]\n"
     ]
    }
   ],
   "source": [
    "a= np.array([(1,2,3),(3,4,5)])\n",
    "print(a.sum(axis= 1))"
   ]
  },
  {
   "cell_type": "markdown",
   "id": "3eb22fe0",
   "metadata": {},
   "source": [
    "### 3. Square root and standard deviations "
   ]
  },
  {
   "cell_type": "code",
   "execution_count": 49,
   "id": "6ffbe26b",
   "metadata": {},
   "outputs": [
    {
     "name": "stdout",
     "output_type": "stream",
     "text": [
      "[[1.         1.41421356 1.73205081]\n",
      " [1.73205081 2.         2.23606798]]\n",
      "\n",
      "standard deviation\n",
      "1.2909944487358056\n"
     ]
    }
   ],
   "source": [
    "a= np.array([(1,2,3),(3,4,5)])\n",
    "print(np.sqrt(a))\n",
    "print()\n",
    "print(\"standard deviation\")\n",
    "print(np.std(a))"
   ]
  },
  {
   "cell_type": "markdown",
   "id": "35acafc1",
   "metadata": {},
   "source": [
    "### 4. ravel function  "
   ]
  },
  {
   "cell_type": "code",
   "execution_count": 50,
   "id": "39613b41",
   "metadata": {},
   "outputs": [
    {
     "name": "stdout",
     "output_type": "stream",
     "text": [
      "[1 2 3 3 4 5]\n"
     ]
    }
   ],
   "source": [
    "x = np.array([(1,2,3),(3,4,5)])\n",
    "print(x.ravel())"
   ]
  },
  {
   "cell_type": "markdown",
   "id": "66183362",
   "metadata": {},
   "source": [
    "### 5. log "
   ]
  },
  {
   "cell_type": "code",
   "execution_count": 51,
   "id": "05184faf",
   "metadata": {},
   "outputs": [
    {
     "data": {
      "text/plain": [
       "array([[1, 2, 3],\n",
       "       [3, 4, 5]])"
      ]
     },
     "execution_count": 51,
     "metadata": {},
     "output_type": "execute_result"
    }
   ],
   "source": [
    "a"
   ]
  },
  {
   "cell_type": "code",
   "execution_count": 52,
   "id": "814b01fc",
   "metadata": {},
   "outputs": [],
   "source": [
    "y = a.flatten()"
   ]
  },
  {
   "cell_type": "code",
   "execution_count": 53,
   "id": "c721ffbe",
   "metadata": {},
   "outputs": [
    {
     "name": "stdout",
     "output_type": "stream",
     "text": [
      "[[0.         0.30103   ]\n",
      " [0.47712125 0.60205999]\n",
      " [0.69897    0.77815125]]\n"
     ]
    }
   ],
   "source": [
    "print(np.log10(b))"
   ]
  },
  {
   "cell_type": "markdown",
   "id": "a514fd0a",
   "metadata": {},
   "source": [
    "### Numpy practice Example"
   ]
  },
  {
   "cell_type": "markdown",
   "id": "06fbdd20",
   "metadata": {},
   "source": [
    "#### Sin graph "
   ]
  },
  {
   "cell_type": "code",
   "execution_count": 54,
   "id": "0df9b802",
   "metadata": {},
   "outputs": [
    {
     "data": {
      "text/plain": [
       "array([0. , 0.1, 0.2, 0.3, 0.4, 0.5, 0.6, 0.7, 0.8, 0.9, 1. , 1.1, 1.2,\n",
       "       1.3, 1.4, 1.5, 1.6, 1.7, 1.8, 1.9, 2. , 2.1, 2.2, 2.3, 2.4, 2.5,\n",
       "       2.6, 2.7, 2.8, 2.9, 3. , 3.1, 3.2, 3.3, 3.4, 3.5, 3.6, 3.7, 3.8,\n",
       "       3.9, 4. , 4.1, 4.2, 4.3, 4.4, 4.5, 4.6, 4.7, 4.8, 4.9, 5. , 5.1,\n",
       "       5.2, 5.3, 5.4, 5.5, 5.6, 5.7, 5.8, 5.9, 6. , 6.1, 6.2, 6.3, 6.4,\n",
       "       6.5, 6.6, 6.7, 6.8, 6.9, 7. , 7.1, 7.2, 7.3, 7.4, 7.5, 7.6, 7.7,\n",
       "       7.8, 7.9, 8. , 8.1, 8.2, 8.3, 8.4, 8.5, 8.6, 8.7, 8.8, 8.9, 9. ,\n",
       "       9.1, 9.2, 9.3, 9.4])"
      ]
     },
     "execution_count": 54,
     "metadata": {},
     "output_type": "execute_result"
    }
   ],
   "source": [
    "x = np.arange(0,3*np.pi,0.1)\n",
    "x"
   ]
  },
  {
   "cell_type": "code",
   "execution_count": 55,
   "id": "5ad7628f",
   "metadata": {},
   "outputs": [],
   "source": [
    "y = np.sin(x)"
   ]
  },
  {
   "cell_type": "code",
   "execution_count": 56,
   "id": "f44b406f",
   "metadata": {},
   "outputs": [
    {
     "data": {
      "text/plain": [
       "array([ 0.        ,  0.09983342,  0.19866933,  0.29552021,  0.38941834,\n",
       "        0.47942554,  0.56464247,  0.64421769,  0.71735609,  0.78332691,\n",
       "        0.84147098,  0.89120736,  0.93203909,  0.96355819,  0.98544973,\n",
       "        0.99749499,  0.9995736 ,  0.99166481,  0.97384763,  0.94630009,\n",
       "        0.90929743,  0.86320937,  0.8084964 ,  0.74570521,  0.67546318,\n",
       "        0.59847214,  0.51550137,  0.42737988,  0.33498815,  0.23924933,\n",
       "        0.14112001,  0.04158066, -0.05837414, -0.15774569, -0.2555411 ,\n",
       "       -0.35078323, -0.44252044, -0.52983614, -0.61185789, -0.68776616,\n",
       "       -0.7568025 , -0.81827711, -0.87157577, -0.91616594, -0.95160207,\n",
       "       -0.97753012, -0.993691  , -0.99992326, -0.99616461, -0.98245261,\n",
       "       -0.95892427, -0.92581468, -0.88345466, -0.83226744, -0.77276449,\n",
       "       -0.70554033, -0.63126664, -0.55068554, -0.46460218, -0.37387666,\n",
       "       -0.2794155 , -0.1821625 , -0.0830894 ,  0.0168139 ,  0.1165492 ,\n",
       "        0.21511999,  0.31154136,  0.40484992,  0.49411335,  0.57843976,\n",
       "        0.6569866 ,  0.72896904,  0.79366786,  0.85043662,  0.8987081 ,\n",
       "        0.93799998,  0.96791967,  0.98816823,  0.99854335,  0.99894134,\n",
       "        0.98935825,  0.96988981,  0.94073056,  0.90217183,  0.85459891,\n",
       "        0.79848711,  0.7343971 ,  0.66296923,  0.58491719,  0.50102086,\n",
       "        0.41211849,  0.31909836,  0.22288991,  0.12445442,  0.02477543])"
      ]
     },
     "execution_count": 56,
     "metadata": {},
     "output_type": "execute_result"
    }
   ],
   "source": [
    "y"
   ]
  },
  {
   "cell_type": "code",
   "execution_count": 57,
   "id": "782c9a9b",
   "metadata": {},
   "outputs": [
    {
     "data": {
      "image/png": "[encoded data removed]",
      "text/plain": [
       "<Figure size 640x480 with 1 Axes>"
      ]
     },
     "metadata": {},
     "output_type": "display_data"
    }
   ],
   "source": [
    "plt.plot(x,y)\n",
    "plt.title(\"Graph of Cosin\")\n",
    "z = [0]*len(x)\n",
    "plt.plot(x,z)\n",
    "plt.show()"
   ]
  },
  {
   "cell_type": "code",
   "execution_count": 58,
   "id": "f89c6abd",
   "metadata": {},
   "outputs": [
    {
     "name": "stdout",
     "output_type": "stream",
     "text": [
      "[[0 0 0 0 0 0]\n",
      " [0 0 0 0 0 0]\n",
      " [0 0 0 0 0 0]\n",
      " [0 0 0 0 0 0]\n",
      " [0 0 0 0 0 0]\n",
      " [0 0 0 0 0 0]]\n",
      "\n",
      "[[0 0 0 0 0 0]\n",
      " [1 0 1 0 1 0]\n",
      " [0 0 0 0 0 0]\n",
      " [1 0 1 0 1 0]\n",
      " [0 0 0 0 0 0]\n",
      " [1 0 1 0 1 0]]\n",
      "\n"
     ]
    },
    {
     "data": {
      "text/plain": [
       "array([[0, 1, 0, 1, 0, 1],\n",
       "       [1, 0, 1, 0, 1, 0],\n",
       "       [0, 1, 0, 1, 0, 1],\n",
       "       [1, 0, 1, 0, 1, 0],\n",
       "       [0, 1, 0, 1, 0, 1],\n",
       "       [1, 0, 1, 0, 1, 0]])"
      ]
     },
     "execution_count": 58,
     "metadata": {},
     "output_type": "execute_result"
    }
   ],
   "source": [
    "Z = np.zeros((6,6),dtype = int)\n",
    "print(Z)\n",
    "print()\n",
    "Z[1::2,::2]=1\n",
    "print(Z)\n",
    "print()\n",
    "Z[::2,1::2]=1\n",
    "Z"
   ]
  },
  {
   "cell_type": "code",
   "execution_count": 59,
   "id": "465aaa18",
   "metadata": {},
   "outputs": [
    {
     "data": {
      "text/plain": [
       "array([[0.21213386, 0.56593549, 0.66948958, 0.57858619, 0.44654764],\n",
       "       [0.78456183, 0.44788896, 0.08056523, 0.92319546, 0.42093124],\n",
       "       [0.32539791, 0.53592936, 0.7285431 , 0.95597695, 0.10068353],\n",
       "       [0.50550547, 0.84888933,        nan,        nan, 0.88941993],\n",
       "       [0.22699276, 0.50757197, 0.36504174, 0.35133385,        nan]])"
      ]
     },
     "execution_count": 59,
     "metadata": {},
     "output_type": "execute_result"
    }
   ],
   "source": [
    "import random\n",
    "z = np.random.rand(5,5)\n",
    "z[np.random.randint(5,size =4), np.random.randint(5,size=4)]=np.nan\n",
    "z"
   ]
  },
  {
   "cell_type": "code",
   "execution_count": 60,
   "id": "4e2e08d8",
   "metadata": {},
   "outputs": [
    {
     "name": "stdout",
     "output_type": "stream",
     "text": [
      "Total number of missing values:  3\n",
      "Index of missing values:  [[3 2]\n",
      " [3 3]\n",
      " [4 4]]\n"
     ]
    }
   ],
   "source": [
    "print(\"Total number of missing values: \", np.isnan(z).sum())\n",
    "print(\"Index of missing values: \", np.argwhere(np.isnan(z)))"
   ]
  },
  {
   "cell_type": "code",
   "execution_count": 61,
   "id": "afc99731",
   "metadata": {},
   "outputs": [
    {
     "name": "stdout",
     "output_type": "stream",
     "text": [
      "(array([3, 3, 4], dtype=int64), array([2, 3, 4], dtype=int64))\n"
     ]
    }
   ],
   "source": [
    "inds = np.where(np.isnan(z))\n",
    "print(inds)\n",
    "z[inds]=0"
   ]
  },
  {
   "cell_type": "code",
   "execution_count": 62,
   "id": "c72dcc21",
   "metadata": {},
   "outputs": [
    {
     "data": {
      "text/plain": [
       "array([[0.21213386, 0.56593549, 0.66948958, 0.57858619, 0.44654764],\n",
       "       [0.78456183, 0.44788896, 0.08056523, 0.92319546, 0.42093124],\n",
       "       [0.32539791, 0.53592936, 0.7285431 , 0.95597695, 0.10068353],\n",
       "       [0.50550547, 0.84888933, 0.        , 0.        , 0.88941993],\n",
       "       [0.22699276, 0.50757197, 0.36504174, 0.35133385, 0.        ]])"
      ]
     },
     "execution_count": 62,
     "metadata": {},
     "output_type": "execute_result"
    }
   ],
   "source": [
    "z"
   ]
  },
  {
   "cell_type": "markdown",
   "id": "3f3016e0",
   "metadata": {},
   "source": [
    "## Thankyou"
   ]
  }
 ],
 "metadata": {
  "kernelspec": {
   "display_name": "Python 3 (ipykernel)",
   "language": "python",
   "name": "python3"
  },
  "language_info": {
   "codemirror_mode": {
    "name": "ipython",
    "version": 3
   },
   "file_extension": ".py",
   "mimetype": "text/x-python",
   "name": "python",
   "nbconvert_exporter": "python",
   "pygments_lexer": "ipython3",
   "version": "3.11.4"
  }
 },
 "nbformat": 4,
 "nbformat_minor": 5
}
