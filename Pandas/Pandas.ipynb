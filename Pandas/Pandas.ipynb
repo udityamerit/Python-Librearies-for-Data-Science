{
 "cells": [
  {
   "cell_type": "markdown",
   "id": "00cfc1b2",
   "metadata": {},
   "source": [
    "# Introduction to Pandas\n",
    "\n",
    "In this module we gona learn the most important topics which is eseentially required in every tech fields...\n",
    "\n",
    "1. What is pandas.\n",
    "2. Series.\n",
    "3. Basic operations on series.\n",
    "4. DataFrame.\n",
    "5. Basic operations on dataframe.\n",
    "6. File-related operations on dataframe.\n",
    "7. Visualization.\n",
    "8. Practice Examples.\n"
   ]
  },
  {
   "cell_type": "markdown",
   "id": "f34db823",
   "metadata": {},
   "source": [
    "##  What is the pandas\n",
    "\n",
    "Pandas is a tool for data processing which helps in data analysis.\n",
    "\n",
    "It provides functions and methods to efficiently manipulate the large datasets.\n",
    "\n"
   ]
  },
  {
   "cell_type": "markdown",
   "id": "fe48b300",
   "metadata": {},
   "source": [
    "### Installing the pandas package in our working notebook"
   ]
  },
  {
   "cell_type": "code",
   "execution_count": 2,
   "id": "9ee3ac82",
   "metadata": {},
   "outputs": [
    {
     "name": "stdout",
     "output_type": "stream",
     "text": [
      "Defaulting to user installation because normal site-packages is not writeable\n",
      "Requirement already satisfied: pandas in c:\\programdata\\anaconda3\\lib\\site-packages (1.5.3)\n",
      "Requirement already satisfied: python-dateutil>=2.8.1 in c:\\programdata\\anaconda3\\lib\\site-packages (from pandas) (2.8.2)\n",
      "Requirement already satisfied: pytz>=2020.1 in c:\\programdata\\anaconda3\\lib\\site-packages (from pandas) (2022.7)\n",
      "Requirement already satisfied: numpy>=1.21.0 in c:\\programdata\\anaconda3\\lib\\site-packages (from pandas) (1.24.3)\n",
      "Requirement already satisfied: six>=1.5 in c:\\programdata\\anaconda3\\lib\\site-packages (from python-dateutil>=2.8.1->pandas) (1.16.0)\n"
     ]
    }
   ],
   "source": [
    "!pip install pandas"
   ]
  },
  {
   "cell_type": "code",
   "execution_count": 7,
   "id": "2a56f8ea",
   "metadata": {},
   "outputs": [],
   "source": [
    "import pandas as pd\n",
    "import numpy as np"
   ]
  },
  {
   "cell_type": "code",
   "execution_count": 3,
   "id": "6c3574eb",
   "metadata": {},
   "outputs": [
    {
     "name": "stdout",
     "output_type": "stream",
     "text": [
      "1.5.3\n"
     ]
    }
   ],
   "source": [
    "print(pd.__version__)"
   ]
  },
  {
   "cell_type": "markdown",
   "id": "71bac651",
   "metadata": {},
   "source": [
    "## Series, create, manipulate, querry, delete"
   ]
  },
  {
   "cell_type": "code",
   "execution_count": 5,
   "id": "db836482",
   "metadata": {},
   "outputs": [
    {
     "data": {
      "text/plain": [
       "0    10\n",
       "1    11\n",
       "2    12\n",
       "3    13\n",
       "4    14\n",
       "5    15\n",
       "dtype: int64"
      ]
     },
     "execution_count": 5,
     "metadata": {},
     "output_type": "execute_result"
    }
   ],
   "source": [
    "# creating a series from a list\n",
    "\n",
    "arr = [10,11,12,13,14,15]\n",
    "s1 = pd.Series(arr)\n",
    "s1"
   ]
  },
  {
   "cell_type": "code",
   "execution_count": 13,
   "id": "48e98ab6",
   "metadata": {},
   "outputs": [
    {
     "data": {
      "text/plain": [
       "a    1.534974\n",
       "b    0.530552\n",
       "c    1.209237\n",
       "d    0.442765\n",
       "e   -1.499344\n",
       "dtype: float64"
      ]
     },
     "execution_count": 13,
     "metadata": {},
     "output_type": "execute_result"
    }
   ],
   "source": [
    "n = np.random.randn(5)\n",
    "index = ['a','b','c','d','e']\n",
    "s2 = pd.Series(n,index = index)\n",
    "s2"
   ]
  },
  {
   "cell_type": "code",
   "execution_count": 14,
   "id": "1111f41d",
   "metadata": {},
   "outputs": [
    {
     "data": {
      "text/plain": [
       "a    1\n",
       "b    2\n",
       "c    3\n",
       "dtype: int64"
      ]
     },
     "execution_count": 14,
     "metadata": {},
     "output_type": "execute_result"
    }
   ],
   "source": [
    "d = {'a':1, 'b':2, 'c':3}\n",
    "s3 =pd.Series(d)\n",
    "s3"
   ]
  },
  {
   "cell_type": "code",
   "execution_count": 16,
   "id": "843df8ab",
   "metadata": {},
   "outputs": [
    {
     "name": "stdout",
     "output_type": "stream",
     "text": [
      "0    10\n",
      "1    11\n",
      "2    12\n",
      "3    13\n",
      "4    14\n",
      "5    15\n",
      "dtype: int64\n"
     ]
    },
    {
     "data": {
      "text/plain": [
       "A    10\n",
       "B    11\n",
       "C    12\n",
       "D    13\n",
       "E    14\n",
       "F    15\n",
       "dtype: int64"
      ]
     },
     "execution_count": 16,
     "metadata": {},
     "output_type": "execute_result"
    }
   ],
   "source": [
    "# updating the index of the data\n",
    "print(s1)\n",
    "s1.index= ['A','B','C','D','E','F']\n",
    "s1"
   ]
  },
  {
   "cell_type": "code",
   "execution_count": null,
   "id": "b7912b9c",
   "metadata": {},
   "outputs": [],
   "source": []
  }
 ],
 "metadata": {
  "kernelspec": {
   "display_name": "Python 3 (ipykernel)",
   "language": "python",
   "name": "python3"
  },
  "language_info": {
   "codemirror_mode": {
    "name": "ipython",
    "version": 3
   },
   "file_extension": ".py",
   "mimetype": "text/x-python",
   "name": "python",
   "nbconvert_exporter": "python",
   "pygments_lexer": "ipython3",
   "version": "3.11.4"
  }
 },
 "nbformat": 4,
 "nbformat_minor": 5
}
