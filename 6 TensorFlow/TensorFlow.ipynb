{
 "cells": [
  {
   "cell_type": "markdown",
   "id": "31cb7ed3",
   "metadata": {},
   "source": [
    "# Intorduction to Tensorflow\n",
    "\n",
    "TensorFlow is an open-source machine learning framework developed by Google, designed for building and deploying machine learning models. It provides a flexible ecosystem of tools, libraries, and community resources to help developers and researchers create and train models for various tasks like image recognition, natural language processing, and even reinforcement learning.\n",
    "\n",
    "Here are some key features of TensorFlow:\n",
    "\n",
    "1. Flexibility: TensorFlow allows the building of both simple and complex models, from small-scale research projects to large production systems.\n",
    "\n",
    "2. Deep Learning: It's particularly powerful for deep learning tasks using neural networks, with support for multiple layers, CNNs (Convolutional Neural Networks), RNNs (Recurrent Neural Networks), and other architectures.\n",
    "\n",
    "3. Cross-platform: TensorFlow runs efficiently on multiple platforms, including CPUs, GPUs, and even mobile devices. It also supports distributed computing for large-scale model training.\n",
    "\n",
    "4. Ecosystem: TensorFlow includes several helpful tools, like:\n",
    "\n",
    "    4.1 TensorFlow Hub: For sharing and reusing pre-trained models.\n",
    "    \n",
    "    4.2 TensorFlow Lite: For deploying models on mobile and embedded devices.\n",
    "    \n",
    "    4.3 TensorFlow Extended (TFX): For production-level machine learning pipelines.\n",
    "    \n",
    "    \n",
    "5. Keras API: TensorFlow integrates Keras, a high-level neural networks API, which simplifies the process of building and training models with its user-friendly interface.\n",
    "\n",
    "\n",
    "TensorFlow is widely used in the AI/ML community, both in research and production environments, due to its scalability, performance, and extensive support from the community and Google.\n",
    "\n",
    "so in this module we are going to understand some basic terminologies and the frameworks...\n",
    "\n",
    "1. Deep Learning Frameworks. \n",
    "\n",
    "2. Features of TensorFlow.\n",
    "\n",
    "3. TensorFlow applications. \n",
    "\n",
    "4. How TensorFlow Works.\n",
    "\n",
    "5. TensorFlow architectures"
   ]
  },
  {
   "cell_type": "markdown",
   "id": "2b687af1",
   "metadata": {},
   "source": [
    "##  Deep Learning Frameworks\n",
    "There are some major Deep Learning Frameworks which is used ragularly..\n",
    "1. Keras.\n",
    "2. TensorFlow.\n",
    "3. PyTorch.\n",
    "4. Caffe.\n",
    "5. theano.\n",
    "6. DL4J.\n",
    "7. Chainer.\n"
   ]
  },
  {
   "cell_type": "markdown",
   "id": "ad04632d",
   "metadata": {},
   "source": [
    "## Features of TensorFlow\n",
    "\n",
    "1. Works efficiently with multi-dimensional arrays.\n",
    "2. Provides scalability of computation across machines and large data set.\n",
    "3. Supports fast debugging and model building.\n",
    "4. Has a large communinty and provides TensorBoard to visualize the model.\n"
   ]
  },
  {
   "cell_type": "markdown",
   "id": "37c0619f",
   "metadata": {},
   "source": [
    "## TensorFlow Applications\n",
    "1. Face detection.\n",
    "2. Language translation.\n",
    "3. Fraud detection. \n",
    "4. Video detection."
   ]
  },
  {
   "cell_type": "markdown",
   "id": "dd3cafbc",
   "metadata": {},
   "source": [
    "##  How TensorFlow works\n",
    "\n",
    "1. TensorFlow is derived from its core component known as a Tensor\n",
    "    1.1 A Tensor is a vector or a matrix of n-dimensions that represents         all types of data.\n",
    "    \n",
    "    eg: [[1,2], [3,4], [5,6], [7,8]].\n",
    "    \n",
    "2. In TensorFlow, tensors are defined by a unit of dimensionality called as rank.\n",
    "\n",
    "    s = 300 ==> Rank is 0.\n",
    "    \n",
    "    v = [1,2,3] ==> Rank is 1.\n",
    "    \n",
    "    m = [[1,2], [3,4], [5,6], [7,8]] ==> Rank is 2.\n",
    "    \n",
    "    t = [[[1],[2],[3]], [[4],[5]], [[6],[7],[8]]] ==> Rank is 3.\n",
    "    \n",
    "    \n",
    "3. TensorFlow performs computations with the help of dataflow graphs. it has nodes that represent the operations in you model.\n",
    "    eg: Compute the below function:\n",
    "    \n",
    "        a(b,c,d) = (b+c)*(d-4).\n",
    "        x = (b+c).\n",
    "        y = (d-4).\n",
    "        a = x*y."
   ]
  },
  {
   "cell_type": "markdown",
   "id": "24b83d9e",
   "metadata": {},
   "source": [
    "## Constants in TensorFlow\n",
    "\n",
    "In TensorFlow, constants are created using the function constant.\n",
    "\n",
    "Syntax: constant(value, dtype==None, shape=None, name='Const', verify_shape=False).\n",
    "\n",
    "Example:  z = tf.constant(5.3, dtype = tf.float32, name = \"x\")\n",
    "\n",
    "\n"
   ]
  },
  {
   "cell_type": "markdown",
   "id": "e1dc7018",
   "metadata": {},
   "source": [
    "## Variables in TensorFlow\n",
    "\n",
    "Variables in TensorFlow are in-memory buffers that stors tensors.\n",
    "\n",
    "Let's declare a 2 by 3 tensor populated by ones.\n",
    "\n",
    "Example: v = tf.Variable(tf.ones([2,3], dtypes = tf.float32))\n"
   ]
  },
  {
   "cell_type": "code",
   "execution_count": null,
   "id": "c12fbf8c",
   "metadata": {},
   "outputs": [],
   "source": []
  }
 ],
 "metadata": {
  "kernelspec": {
   "display_name": "Python 3 (ipykernel)",
   "language": "python",
   "name": "python3"
  },
  "language_info": {
   "codemirror_mode": {
    "name": "ipython",
    "version": 3
   },
   "file_extension": ".py",
   "mimetype": "text/x-python",
   "name": "python",
   "nbconvert_exporter": "python",
   "pygments_lexer": "ipython3",
   "version": "3.11.4"
  }
 },
 "nbformat": 4,
 "nbformat_minor": 5
}
