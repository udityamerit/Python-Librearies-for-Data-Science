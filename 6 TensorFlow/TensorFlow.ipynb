{
 "cells": [
  {
   "cell_type": "markdown",
   "id": "31cb7ed3",
   "metadata": {},
   "source": [
    "# Intorduction to Tensorflow\n",
    "\n",
    "TensorFlow is an open-source machine learning framework developed by Google, designed for building and deploying machine learning models. It provides a flexible ecosystem of tools, libraries, and community resources to help developers and researchers create and train models for various tasks like image recognition, natural language processing, and even reinforcement learning.\n",
    "\n",
    "Here are some key features of TensorFlow:\n",
    "\n",
    "1. Flexibility: TensorFlow allows the building of both simple and complex models, from small-scale research projects to large production systems.\n",
    "\n",
    "2. Deep Learning: It's particularly powerful for deep learning tasks using neural networks, with support for multiple layers, CNNs (Convolutional Neural Networks), RNNs (Recurrent Neural Networks), and other architectures.\n",
    "\n",
    "3. Cross-platform: TensorFlow runs efficiently on multiple platforms, including CPUs, GPUs, and even mobile devices. It also supports distributed computing for large-scale model training.\n",
    "\n",
    "4. Ecosystem: TensorFlow includes several helpful tools, like:\n",
    "\n",
    "    4.1 TensorFlow Hub: For sharing and reusing pre-trained models.\n",
    "    \n",
    "    4.2 TensorFlow Lite: For deploying models on mobile and embedded devices.\n",
    "    \n",
    "    4.3 TensorFlow Extended (TFX): For production-level machine learning pipelines.\n",
    "    \n",
    "    \n",
    "5. Keras API: TensorFlow integrates Keras, a high-level neural networks API, which simplifies the process of building and training models with its user-friendly interface.\n",
    "\n",
    "\n",
    "TensorFlow is widely used in the AI/ML community, both in research and production environments, due to its scalability, performance, and extensive support from the community and Google.\n",
    "\n",
    "so in this module we are going to understand some basic terminologies and the frameworks...\n",
    "\n",
    "1. Deep Learning Frameworks. \n",
    "\n",
    "2. Features of TensorFlow.\n",
    "\n",
    "3. TensorFlow applications. \n",
    "\n",
    "4. How TensorFlow Works.\n",
    "\n",
    "5. TensorFlow architectures"
   ]
  },
  {
   "cell_type": "markdown",
   "id": "2b687af1",
   "metadata": {},
   "source": [
    "##  Deep Learning Frameworks\n",
    "There are some major Deep Learning Frameworks which is used ragularly..\n",
    "1. Keras.\n",
    "2. TensorFlow.\n",
    "3. PyTorch.\n",
    "4. Caffe.\n",
    "5. theano.\n",
    "6. DL4J.\n",
    "7. Chainer.\n"
   ]
  },
  {
   "cell_type": "markdown",
   "id": "ad04632d",
   "metadata": {},
   "source": [
    "## Features of TensorFlow\n",
    "\n",
    "1. Works efficiently with multi-dimensional arrays.\n",
    "2. Provides scalability of computation across machines and large data set.\n",
    "3. Supports fast debugging and model building.\n",
    "4. Has a large communinty and provides TensorBoard to visualize the model.\n"
   ]
  },
  {
   "cell_type": "markdown",
   "id": "37c0619f",
   "metadata": {},
   "source": [
    "## TensorFlow Applications\n",
    "1. Face detection.\n",
    "2. Language translation.\n",
    "3. Fraud detection. \n",
    "4. Video detection."
   ]
  },
  {
   "cell_type": "markdown",
   "id": "dd3cafbc",
   "metadata": {},
   "source": [
    "##  How TensorFlow works\n",
    "\n",
    "1. TensorFlow is derived from its core component known as a Tensor\n",
    "    1.1 A Tensor is a vector or a matrix of n-dimensions that represents         all types of data.\n",
    "    \n",
    "    eg: [[1,2], [3,4], [5,6], [7,8]].\n",
    "    \n",
    "2. In TensorFlow, tensors are defined by a unit of dimensionality called as rank.\n",
    "\n",
    "    s = 300 ==> Rank is 0.\n",
    "    \n",
    "    v = [1,2,3] ==> Rank is 1.\n",
    "    \n",
    "    m = [[1,2], [3,4], [5,6], [7,8]] ==> Rank is 2.\n",
    "    \n",
    "    t = [[[1],[2],[3]], [[4],[5]], [[6],[7],[8]]] ==> Rank is 3.\n",
    "    \n",
    "    \n",
    "3. TensorFlow performs computations with the help of dataflow graphs. it has nodes that represent the operations in you model.\n",
    "    eg: Compute the below function:\n",
    "    \n",
    "        a(b,c,d) = (b+c)*(d-4).\n",
    "        x = (b+c).\n",
    "        y = (d-4).\n",
    "        a = x*y."
   ]
  },
  {
   "cell_type": "markdown",
   "id": "24b83d9e",
   "metadata": {},
   "source": [
    "## Constants in TensorFlow\n",
    "\n",
    "In TensorFlow, constants are created using the function constant.\n",
    "\n",
    "Syntax: constant(value, dtype==None, shape=None, name='Const', verify_shape=False).\n",
    "\n",
    "Example:  z = tf.constant(5.3, dtype = tf.float32, name = \"x\")\n",
    "\n",
    "\n"
   ]
  },
  {
   "cell_type": "markdown",
   "id": "e1dc7018",
   "metadata": {},
   "source": [
    "## Variables in TensorFlow\n",
    "\n",
    "Variables in TensorFlow are in-memory buffers that stors tensors.\n",
    "\n",
    "Let's declare a 2 by 3 tensor populated by ones.\n",
    "\n",
    "Example: v = tf.Variable(tf.ones([2,3], dtypes = tf.float32))\n"
   ]
  },
  {
   "cell_type": "markdown",
   "id": "ad500a8c",
   "metadata": {},
   "source": [
    "#  Keras"
   ]
  },
  {
   "cell_type": "code",
   "execution_count": 1,
   "id": "6577306f",
   "metadata": {},
   "outputs": [],
   "source": [
    "#  !pip install keras"
   ]
  },
  {
   "cell_type": "code",
   "execution_count": 2,
   "id": "8d2fd8d1",
   "metadata": {},
   "outputs": [],
   "source": [
    "# !pip install tensorflow"
   ]
  },
  {
   "cell_type": "code",
   "execution_count": 3,
   "id": "2b0ca882",
   "metadata": {},
   "outputs": [],
   "source": [
    "import pandas as pd\n",
    "import math\n",
    "from keras.models import Sequential\n",
    "from keras.layers import Dense\n",
    "from keras.layers import LSTM\n",
    "from sklearn.preprocessing import MinMaxScaler, StandardScaler\n",
    "from sklearn.metrics import mean_squared_error"
   ]
  },
  {
   "cell_type": "code",
   "execution_count": 4,
   "id": "0a842150",
   "metadata": {},
   "outputs": [
    {
     "data": {
      "text/html": [
       "<div>\n",
       "<style scoped>\n",
       "    .dataframe tbody tr th:only-of-type {\n",
       "        vertical-align: middle;\n",
       "    }\n",
       "\n",
       "    .dataframe tbody tr th {\n",
       "        vertical-align: top;\n",
       "    }\n",
       "\n",
       "    .dataframe thead th {\n",
       "        text-align: right;\n",
       "    }\n",
       "</style>\n",
       "<table border=\"1\" class=\"dataframe\">\n",
       "  <thead>\n",
       "    <tr style=\"text-align: right;\">\n",
       "      <th></th>\n",
       "      <th>Unique ID</th>\n",
       "      <th>Indicator ID</th>\n",
       "      <th>Name</th>\n",
       "      <th>Measure</th>\n",
       "      <th>Measure Info</th>\n",
       "      <th>Geo Type Name</th>\n",
       "      <th>Geo Join ID</th>\n",
       "      <th>Geo Place Name</th>\n",
       "      <th>Time Period</th>\n",
       "      <th>Start_Date</th>\n",
       "      <th>Data Value</th>\n",
       "      <th>Message</th>\n",
       "    </tr>\n",
       "  </thead>\n",
       "  <tbody>\n",
       "    <tr>\n",
       "      <th>0</th>\n",
       "      <td>216498</td>\n",
       "      <td>386</td>\n",
       "      <td>Ozone (O3)</td>\n",
       "      <td>Mean</td>\n",
       "      <td>ppb</td>\n",
       "      <td>CD</td>\n",
       "      <td>313</td>\n",
       "      <td>Coney Island (CD13)</td>\n",
       "      <td>Summer 2013</td>\n",
       "      <td>06/01/2013</td>\n",
       "      <td>34.64</td>\n",
       "      <td>NaN</td>\n",
       "    </tr>\n",
       "    <tr>\n",
       "      <th>1</th>\n",
       "      <td>216499</td>\n",
       "      <td>386</td>\n",
       "      <td>Ozone (O3)</td>\n",
       "      <td>Mean</td>\n",
       "      <td>ppb</td>\n",
       "      <td>CD</td>\n",
       "      <td>313</td>\n",
       "      <td>Coney Island (CD13)</td>\n",
       "      <td>Summer 2014</td>\n",
       "      <td>06/01/2014</td>\n",
       "      <td>33.22</td>\n",
       "      <td>NaN</td>\n",
       "    </tr>\n",
       "    <tr>\n",
       "      <th>2</th>\n",
       "      <td>219969</td>\n",
       "      <td>386</td>\n",
       "      <td>Ozone (O3)</td>\n",
       "      <td>Mean</td>\n",
       "      <td>ppb</td>\n",
       "      <td>Borough</td>\n",
       "      <td>1</td>\n",
       "      <td>Bronx</td>\n",
       "      <td>Summer 2013</td>\n",
       "      <td>06/01/2013</td>\n",
       "      <td>31.25</td>\n",
       "      <td>NaN</td>\n",
       "    </tr>\n",
       "    <tr>\n",
       "      <th>3</th>\n",
       "      <td>219970</td>\n",
       "      <td>386</td>\n",
       "      <td>Ozone (O3)</td>\n",
       "      <td>Mean</td>\n",
       "      <td>ppb</td>\n",
       "      <td>Borough</td>\n",
       "      <td>1</td>\n",
       "      <td>Bronx</td>\n",
       "      <td>Summer 2014</td>\n",
       "      <td>06/01/2014</td>\n",
       "      <td>31.15</td>\n",
       "      <td>NaN</td>\n",
       "    </tr>\n",
       "    <tr>\n",
       "      <th>4</th>\n",
       "      <td>164876</td>\n",
       "      <td>383</td>\n",
       "      <td>Sulfur Dioxide (SO2)</td>\n",
       "      <td>Mean</td>\n",
       "      <td>ppb</td>\n",
       "      <td>CD</td>\n",
       "      <td>211</td>\n",
       "      <td>Morris Park and Bronxdale (CD11)</td>\n",
       "      <td>Winter 2008-09</td>\n",
       "      <td>12/01/2008</td>\n",
       "      <td>5.89</td>\n",
       "      <td>NaN</td>\n",
       "    </tr>\n",
       "  </tbody>\n",
       "</table>\n",
       "</div>"
      ],
      "text/plain": [
       "   Unique ID  Indicator ID                  Name Measure Measure Info  \\\n",
       "0     216498           386            Ozone (O3)    Mean          ppb   \n",
       "1     216499           386            Ozone (O3)    Mean          ppb   \n",
       "2     219969           386            Ozone (O3)    Mean          ppb   \n",
       "3     219970           386            Ozone (O3)    Mean          ppb   \n",
       "4     164876           383  Sulfur Dioxide (SO2)    Mean          ppb   \n",
       "\n",
       "  Geo Type Name  Geo Join ID                    Geo Place Name  \\\n",
       "0            CD          313               Coney Island (CD13)   \n",
       "1            CD          313               Coney Island (CD13)   \n",
       "2       Borough            1                             Bronx   \n",
       "3       Borough            1                             Bronx   \n",
       "4            CD          211  Morris Park and Bronxdale (CD11)   \n",
       "\n",
       "      Time Period  Start_Date  Data Value  Message  \n",
       "0     Summer 2013  06/01/2013       34.64      NaN  \n",
       "1     Summer 2014  06/01/2014       33.22      NaN  \n",
       "2     Summer 2013  06/01/2013       31.25      NaN  \n",
       "3     Summer 2014  06/01/2014       31.15      NaN  \n",
       "4  Winter 2008-09  12/01/2008        5.89      NaN  "
      ]
     },
     "execution_count": 4,
     "metadata": {},
     "output_type": "execute_result"
    }
   ],
   "source": [
    "df = pd.read_csv('air_Quality.csv')\n",
    "df.head()"
   ]
  },
  {
   "cell_type": "code",
   "execution_count": 5,
   "id": "f67f7903",
   "metadata": {},
   "outputs": [
    {
     "data": {
      "text/plain": [
       "Index(['Unique ID', 'Indicator ID', 'Name', 'Measure', 'Measure Info',\n",
       "       'Geo Type Name', 'Geo Join ID', 'Geo Place Name', 'Time Period',\n",
       "       'Start_Date', 'Data Value', 'Message'],\n",
       "      dtype='object')"
      ]
     },
     "execution_count": 5,
     "metadata": {},
     "output_type": "execute_result"
    }
   ],
   "source": [
    "df.columns"
   ]
  },
  {
   "cell_type": "code",
   "execution_count": 6,
   "id": "e8739f89",
   "metadata": {},
   "outputs": [
    {
     "data": {
      "text/plain": [
       "12"
      ]
     },
     "execution_count": 6,
     "metadata": {},
     "output_type": "execute_result"
    }
   ],
   "source": [
    "len(df.columns)"
   ]
  },
  {
   "cell_type": "code",
   "execution_count": 7,
   "id": "c7c150eb",
   "metadata": {},
   "outputs": [
    {
     "name": "stdout",
     "output_type": "stream",
     "text": [
      "<class 'pandas.core.frame.DataFrame'>\n",
      "RangeIndex: 16122 entries, 0 to 16121\n",
      "Data columns (total 12 columns):\n",
      " #   Column          Non-Null Count  Dtype  \n",
      "---  ------          --------------  -----  \n",
      " 0   Unique ID       16122 non-null  int64  \n",
      " 1   Indicator ID    16122 non-null  int64  \n",
      " 2   Name            16122 non-null  object \n",
      " 3   Measure         16122 non-null  object \n",
      " 4   Measure Info    16122 non-null  object \n",
      " 5   Geo Type Name   16122 non-null  object \n",
      " 6   Geo Join ID     16122 non-null  int64  \n",
      " 7   Geo Place Name  16122 non-null  object \n",
      " 8   Time Period     16122 non-null  object \n",
      " 9   Start_Date      16122 non-null  object \n",
      " 10  Data Value      16122 non-null  float64\n",
      " 11  Message         0 non-null      float64\n",
      "dtypes: float64(2), int64(3), object(7)\n",
      "memory usage: 1.5+ MB\n"
     ]
    }
   ],
   "source": [
    "df.info()"
   ]
  },
  {
   "cell_type": "code",
   "execution_count": 8,
   "id": "41152c87",
   "metadata": {},
   "outputs": [
    {
     "data": {
      "text/html": [
       "<div>\n",
       "<style scoped>\n",
       "    .dataframe tbody tr th:only-of-type {\n",
       "        vertical-align: middle;\n",
       "    }\n",
       "\n",
       "    .dataframe tbody tr th {\n",
       "        vertical-align: top;\n",
       "    }\n",
       "\n",
       "    .dataframe thead th {\n",
       "        text-align: right;\n",
       "    }\n",
       "</style>\n",
       "<table border=\"1\" class=\"dataframe\">\n",
       "  <thead>\n",
       "    <tr style=\"text-align: right;\">\n",
       "      <th></th>\n",
       "      <th>Unique ID</th>\n",
       "      <th>Indicator ID</th>\n",
       "      <th>Geo Join ID</th>\n",
       "      <th>Data Value</th>\n",
       "      <th>Message</th>\n",
       "    </tr>\n",
       "  </thead>\n",
       "  <tbody>\n",
       "    <tr>\n",
       "      <th>count</th>\n",
       "      <td>16122.000000</td>\n",
       "      <td>16122.000000</td>\n",
       "      <td>1.612200e+04</td>\n",
       "      <td>16122.000000</td>\n",
       "      <td>0.0</td>\n",
       "    </tr>\n",
       "    <tr>\n",
       "      <th>mean</th>\n",
       "      <td>339480.955589</td>\n",
       "      <td>427.131063</td>\n",
       "      <td>6.133394e+05</td>\n",
       "      <td>19.129163</td>\n",
       "      <td>NaN</td>\n",
       "    </tr>\n",
       "    <tr>\n",
       "      <th>std</th>\n",
       "      <td>194099.809551</td>\n",
       "      <td>109.657607</td>\n",
       "      <td>7.916715e+06</td>\n",
       "      <td>21.673789</td>\n",
       "      <td>NaN</td>\n",
       "    </tr>\n",
       "    <tr>\n",
       "      <th>min</th>\n",
       "      <td>130355.000000</td>\n",
       "      <td>365.000000</td>\n",
       "      <td>1.000000e+00</td>\n",
       "      <td>0.000000</td>\n",
       "      <td>NaN</td>\n",
       "    </tr>\n",
       "    <tr>\n",
       "      <th>25%</th>\n",
       "      <td>172183.250000</td>\n",
       "      <td>365.000000</td>\n",
       "      <td>2.020000e+02</td>\n",
       "      <td>8.460000</td>\n",
       "      <td>NaN</td>\n",
       "    </tr>\n",
       "    <tr>\n",
       "      <th>50%</th>\n",
       "      <td>221882.500000</td>\n",
       "      <td>375.000000</td>\n",
       "      <td>3.030000e+02</td>\n",
       "      <td>13.900000</td>\n",
       "      <td>NaN</td>\n",
       "    </tr>\n",
       "    <tr>\n",
       "      <th>75%</th>\n",
       "      <td>547749.750000</td>\n",
       "      <td>386.000000</td>\n",
       "      <td>4.040000e+02</td>\n",
       "      <td>25.470000</td>\n",
       "      <td>NaN</td>\n",
       "    </tr>\n",
       "    <tr>\n",
       "      <th>max</th>\n",
       "      <td>671122.000000</td>\n",
       "      <td>661.000000</td>\n",
       "      <td>1.051061e+08</td>\n",
       "      <td>424.700000</td>\n",
       "      <td>NaN</td>\n",
       "    </tr>\n",
       "  </tbody>\n",
       "</table>\n",
       "</div>"
      ],
      "text/plain": [
       "           Unique ID  Indicator ID   Geo Join ID    Data Value  Message\n",
       "count   16122.000000  16122.000000  1.612200e+04  16122.000000      0.0\n",
       "mean   339480.955589    427.131063  6.133394e+05     19.129163      NaN\n",
       "std    194099.809551    109.657607  7.916715e+06     21.673789      NaN\n",
       "min    130355.000000    365.000000  1.000000e+00      0.000000      NaN\n",
       "25%    172183.250000    365.000000  2.020000e+02      8.460000      NaN\n",
       "50%    221882.500000    375.000000  3.030000e+02     13.900000      NaN\n",
       "75%    547749.750000    386.000000  4.040000e+02     25.470000      NaN\n",
       "max    671122.000000    661.000000  1.051061e+08    424.700000      NaN"
      ]
     },
     "execution_count": 8,
     "metadata": {},
     "output_type": "execute_result"
    }
   ],
   "source": [
    "df.describe()"
   ]
  },
  {
   "cell_type": "code",
   "execution_count": 9,
   "id": "fa8a1693",
   "metadata": {},
   "outputs": [],
   "source": [
    "df.drop(['Message'],axis =1, inplace= True) # removing the column of Message"
   ]
  },
  {
   "cell_type": "code",
   "execution_count": 10,
   "id": "7678201e",
   "metadata": {},
   "outputs": [
    {
     "data": {
      "text/html": [
       "<div>\n",
       "<style scoped>\n",
       "    .dataframe tbody tr th:only-of-type {\n",
       "        vertical-align: middle;\n",
       "    }\n",
       "\n",
       "    .dataframe tbody tr th {\n",
       "        vertical-align: top;\n",
       "    }\n",
       "\n",
       "    .dataframe thead th {\n",
       "        text-align: right;\n",
       "    }\n",
       "</style>\n",
       "<table border=\"1\" class=\"dataframe\">\n",
       "  <thead>\n",
       "    <tr style=\"text-align: right;\">\n",
       "      <th></th>\n",
       "      <th>Unique ID</th>\n",
       "      <th>Indicator ID</th>\n",
       "      <th>Geo Join ID</th>\n",
       "      <th>Data Value</th>\n",
       "    </tr>\n",
       "  </thead>\n",
       "  <tbody>\n",
       "    <tr>\n",
       "      <th>count</th>\n",
       "      <td>16122.000000</td>\n",
       "      <td>16122.000000</td>\n",
       "      <td>1.612200e+04</td>\n",
       "      <td>16122.000000</td>\n",
       "    </tr>\n",
       "    <tr>\n",
       "      <th>mean</th>\n",
       "      <td>339480.955589</td>\n",
       "      <td>427.131063</td>\n",
       "      <td>6.133394e+05</td>\n",
       "      <td>19.129163</td>\n",
       "    </tr>\n",
       "    <tr>\n",
       "      <th>std</th>\n",
       "      <td>194099.809551</td>\n",
       "      <td>109.657607</td>\n",
       "      <td>7.916715e+06</td>\n",
       "      <td>21.673789</td>\n",
       "    </tr>\n",
       "    <tr>\n",
       "      <th>min</th>\n",
       "      <td>130355.000000</td>\n",
       "      <td>365.000000</td>\n",
       "      <td>1.000000e+00</td>\n",
       "      <td>0.000000</td>\n",
       "    </tr>\n",
       "    <tr>\n",
       "      <th>25%</th>\n",
       "      <td>172183.250000</td>\n",
       "      <td>365.000000</td>\n",
       "      <td>2.020000e+02</td>\n",
       "      <td>8.460000</td>\n",
       "    </tr>\n",
       "    <tr>\n",
       "      <th>50%</th>\n",
       "      <td>221882.500000</td>\n",
       "      <td>375.000000</td>\n",
       "      <td>3.030000e+02</td>\n",
       "      <td>13.900000</td>\n",
       "    </tr>\n",
       "    <tr>\n",
       "      <th>75%</th>\n",
       "      <td>547749.750000</td>\n",
       "      <td>386.000000</td>\n",
       "      <td>4.040000e+02</td>\n",
       "      <td>25.470000</td>\n",
       "    </tr>\n",
       "    <tr>\n",
       "      <th>max</th>\n",
       "      <td>671122.000000</td>\n",
       "      <td>661.000000</td>\n",
       "      <td>1.051061e+08</td>\n",
       "      <td>424.700000</td>\n",
       "    </tr>\n",
       "  </tbody>\n",
       "</table>\n",
       "</div>"
      ],
      "text/plain": [
       "           Unique ID  Indicator ID   Geo Join ID    Data Value\n",
       "count   16122.000000  16122.000000  1.612200e+04  16122.000000\n",
       "mean   339480.955589    427.131063  6.133394e+05     19.129163\n",
       "std    194099.809551    109.657607  7.916715e+06     21.673789\n",
       "min    130355.000000    365.000000  1.000000e+00      0.000000\n",
       "25%    172183.250000    365.000000  2.020000e+02      8.460000\n",
       "50%    221882.500000    375.000000  3.030000e+02     13.900000\n",
       "75%    547749.750000    386.000000  4.040000e+02     25.470000\n",
       "max    671122.000000    661.000000  1.051061e+08    424.700000"
      ]
     },
     "execution_count": 10,
     "metadata": {},
     "output_type": "execute_result"
    }
   ],
   "source": [
    "df.describe()"
   ]
  },
  {
   "cell_type": "code",
   "execution_count": 11,
   "id": "33150ecc",
   "metadata": {},
   "outputs": [
    {
     "data": {
      "text/plain": [
       "Unique ID         0\n",
       "Indicator ID      0\n",
       "Name              0\n",
       "Measure           0\n",
       "Measure Info      0\n",
       "Geo Type Name     0\n",
       "Geo Join ID       0\n",
       "Geo Place Name    0\n",
       "Time Period       0\n",
       "Start_Date        0\n",
       "Data Value        0\n",
       "dtype: int64"
      ]
     },
     "execution_count": 11,
     "metadata": {},
     "output_type": "execute_result"
    }
   ],
   "source": [
    "df.isnull().sum()"
   ]
  },
  {
   "cell_type": "code",
   "execution_count": null,
   "id": "789fb6aa",
   "metadata": {},
   "outputs": [],
   "source": []
  }
 ],
 "metadata": {
  "kernelspec": {
   "display_name": "Python 3 (ipykernel)",
   "language": "python",
   "name": "python3"
  },
  "language_info": {
   "codemirror_mode": {
    "name": "ipython",
    "version": 3
   },
   "file_extension": ".py",
   "mimetype": "text/x-python",
   "name": "python",
   "nbconvert_exporter": "python",
   "pygments_lexer": "ipython3",
   "version": "3.11.4"
  }
 },
 "nbformat": 4,
 "nbformat_minor": 5
}
