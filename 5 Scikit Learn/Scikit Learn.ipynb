{
 "cells": [
  {
   "cell_type": "markdown",
   "id": "0e7a3617",
   "metadata": {},
   "source": [
    "# Introduction to Scikit Learn\n",
    "\n",
    "In this module we are going to learn about the basics of Scikit learn library which is most incredible and used for the Simple and efficient tool for data mining and data analysis so we are deep dive into it and learn so many concepts...\n",
    "\n",
    "we are use the Scikit Learn in the two different major criteria .\n",
    "1. Classification ==> In the Classification we are identifying the data that we have which category an object belogs to . we are used this concept in the Application of Spam detection, banking(like good loan or bad loan) and like other thigs.\n",
    "\n",
    "2. Regression ==> In this Regression we are Predicting an attributes associated with an object . the Application of the Regression is Stock price prediction, weather forecasting and like other things"
   ]
  },
  {
   "cell_type": "code",
   "execution_count": null,
   "id": "7ad7361b",
   "metadata": {},
   "outputs": [],
   "source": []
  }
 ],
 "metadata": {
  "kernelspec": {
   "display_name": "Python 3 (ipykernel)",
   "language": "python",
   "name": "python3"
  },
  "language_info": {
   "codemirror_mode": {
    "name": "ipython",
    "version": 3
   },
   "file_extension": ".py",
   "mimetype": "text/x-python",
   "name": "python",
   "nbconvert_exporter": "python",
   "pygments_lexer": "ipython3",
   "version": "3.11.4"
  }
 },
 "nbformat": 4,
 "nbformat_minor": 5
}
